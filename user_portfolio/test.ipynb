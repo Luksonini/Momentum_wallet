{
 "cells": [
  {
   "cell_type": "code",
   "execution_count": null,
   "metadata": {},
   "outputs": [],
   "source": [
    "import pandas as pd\n",
    "\n",
    "url = 'https://en.wikipedia.org/wiki/Nasdaq-100'\n",
    "tables = pd.read_html(url)\n",
    "tiker_list = tables[4]['Ticker'].to_list()\n",
    "print(tiker_list)b"
   ]
  },
  {
   "cell_type": "code",
   "execution_count": 4,
   "metadata": {},
   "outputs": [
    {
     "ename": "ImportError",
     "evalue": "cannot import name 'Self' from 'typing' (c:\\Users\\Rizos\\anaconda3\\envs\\requirements\\lib\\typing.py)",
     "output_type": "error",
     "traceback": [
      "\u001b[1;31m---------------------------------------------------------------------------\u001b[0m",
      "\u001b[1;31mImportError\u001b[0m                               Traceback (most recent call last)",
      "\u001b[1;32md:\\programowanie\\cs50\\market_portfolio\\test.ipynb Cell 2\u001b[0m line \u001b[0;36m1\n\u001b[1;32m----> <a href='vscode-notebook-cell:/d%3A/programowanie/cs50/market_portfolio/test.ipynb#W1sZmlsZQ%3D%3D?line=0'>1</a>\u001b[0m \u001b[39mfrom\u001b[39;00m \u001b[39mtradinghours\u001b[39;00m\u001b[39m.\u001b[39;00m\u001b[39mmarket\u001b[39;00m \u001b[39mimport\u001b[39;00m Market\n\u001b[0;32m      <a href='vscode-notebook-cell:/d%3A/programowanie/cs50/market_portfolio/test.ipynb#W1sZmlsZQ%3D%3D?line=2'>3</a>\u001b[0m \u001b[39mfor\u001b[39;00m market \u001b[39min\u001b[39;00m Market\u001b[39m.\u001b[39mlist_all():\n\u001b[0;32m      <a href='vscode-notebook-cell:/d%3A/programowanie/cs50/market_portfolio/test.ipynb#W1sZmlsZQ%3D%3D?line=3'>4</a>\u001b[0m     \u001b[39mprint\u001b[39m(market)\n",
      "File \u001b[1;32mc:\\Users\\Rizos\\anaconda3\\envs\\requirements\\lib\\site-packages\\tradinghours\\market.py:3\u001b[0m\n\u001b[0;32m      1\u001b[0m \u001b[39mimport\u001b[39;00m \u001b[39mdatetime\u001b[39;00m\n\u001b[0;32m      2\u001b[0m \u001b[39mfrom\u001b[39;00m \u001b[39mdatetime\u001b[39;00m \u001b[39mimport\u001b[39;00m timedelta\n\u001b[1;32m----> 3\u001b[0m \u001b[39mfrom\u001b[39;00m \u001b[39mtyping\u001b[39;00m \u001b[39mimport\u001b[39;00m Generator, List, Self\n\u001b[0;32m      5\u001b[0m \u001b[39mfrom\u001b[39;00m \u001b[39m.\u001b[39;00m\u001b[39mbase\u001b[39;00m \u001b[39mimport\u001b[39;00m (\n\u001b[0;32m      6\u001b[0m     BaseObject,\n\u001b[0;32m      7\u001b[0m     BooleanField,\n\u001b[1;32m   (...)\u001b[0m\n\u001b[0;32m     12\u001b[0m     WeekdaySetField,\n\u001b[0;32m     13\u001b[0m )\n\u001b[0;32m     14\u001b[0m \u001b[39mfrom\u001b[39;00m \u001b[39m.\u001b[39;00m\u001b[39mschedule\u001b[39;00m \u001b[39mimport\u001b[39;00m ConcretePhase, Schedule\n",
      "\u001b[1;31mImportError\u001b[0m: cannot import name 'Self' from 'typing' (c:\\Users\\Rizos\\anaconda3\\envs\\requirements\\lib\\typing.py)"
     ]
    }
   ],
   "source": []
  },
  {
   "cell_type": "code",
   "execution_count": 3,
   "metadata": {},
   "outputs": [
    {
     "name": "stdout",
     "output_type": "stream",
     "text": [
      "Requirement already satisfied: tradinghours in c:\\users\\rizos\\anaconda3\\envs\\requirements\\lib\\site-packages (0.0.3)\n"
     ]
    }
   ],
   "source": [
    "!pip install tradinghours"
   ]
  },
  {
   "cell_type": "code",
   "execution_count": 12,
   "metadata": {},
   "outputs": [
    {
     "name": "stdout",
     "output_type": "stream",
     "text": [
      "2021-10-29\n",
      "2023-10-29\n"
     ]
    },
    {
     "data": {
      "text/plain": [
       "2021"
      ]
     },
     "execution_count": 12,
     "metadata": {},
     "output_type": "execute_result"
    }
   ],
   "source": [
    "from datetime import datetime\n",
    "\n",
    "now = datetime.now()\n",
    "now.day\n",
    "\n",
    "two_years_back =  datetime(now.year - 2, now.month, now.day)\n",
    "print(two_years_back.strftime(\"%Y-%m-%d\"))\n",
    "print(now.strftime(\"%Y-%m-%d\"))\n",
    "\n",
    "start = now.year - 2\n",
    "start"
   ]
  },
  {
   "cell_type": "code",
   "execution_count": 17,
   "metadata": {},
   "outputs": [
    {
     "name": "stdout",
     "output_type": "stream",
     "text": [
      "[*********************100%***********************]  3 of 3 completed\n",
      "             Adj Close       Close        High         Low        Open   \n",
      "Date                                                                     \n",
      "2021-10-29  148.086746  149.800003  149.940002  146.410004  147.220001  \\\n",
      "2021-11-01  147.256378  148.960007  149.699997  147.800003  148.990005   \n",
      "2021-11-02  148.304230  150.020004  151.570007  148.649994  148.660004   \n",
      "2021-11-03  149.757431  151.490005  151.970001  149.820007  150.389999   \n",
      "2021-11-04  149.233505  150.960007  152.429993  150.639999  151.580002   \n",
      "...                ...         ...         ...         ...         ...   \n",
      "2023-10-23  173.000000  173.000000  174.009995  169.929993  170.910004   \n",
      "2023-10-24  173.440002  173.440002  173.669998  171.449997  173.050003   \n",
      "2023-10-25  171.100006  171.100006  173.059998  170.649994  171.880005   \n",
      "2023-10-26  166.889999  166.889999  171.380005  165.669998  170.369995   \n",
      "2023-10-27  168.220001  168.220001  168.960007  166.830002  166.910004   \n",
      "\n",
      "                 Volume  \n",
      "Date                     \n",
      "2021-10-29  124953200.0  \n",
      "2021-11-01   74588300.0  \n",
      "2021-11-02   69122000.0  \n",
      "2021-11-03   54511500.0  \n",
      "2021-11-04   60394600.0  \n",
      "...                 ...  \n",
      "2023-10-23   55980100.0  \n",
      "2023-10-24   43816600.0  \n",
      "2023-10-25   57157000.0  \n",
      "2023-10-26   70625300.0  \n",
      "2023-10-27   58468600.0  \n",
      "\n",
      "[502 rows x 6 columns]\n"
     ]
    }
   ],
   "source": [
    "import yfinance as yf\n",
    "\n",
    "# Lista tickerów\n",
    "tickers = [\"AAPL\", \"GOOGL\", \"MSFT\"]\n",
    "\n",
    "# Pobranie danych historycznych\n",
    "data = yf.download(tickers, start=two_years_back.strftime(\"%Y-%m-%d\"), end=now.strftime(\"%Y-%m-%d\"))\n",
    "data = data.stack(level=0).unstack()\n",
    "\n",
    "# Wyświetlenie danych\n",
    "print(data['AAPL'])"
   ]
  },
  {
   "cell_type": "code",
   "execution_count": 31,
   "metadata": {},
   "outputs": [],
   "source": [
    "apple = data['AAPL']\n",
    "apple = apple.tail(50)"
   ]
  },
  {
   "cell_type": "code",
   "execution_count": 33,
   "metadata": {},
   "outputs": [
    {
     "data": {
      "text/plain": [
       "<generator object DataFrame.iterrows at 0x00000235FED09770>"
      ]
     },
     "execution_count": 33,
     "metadata": {},
     "output_type": "execute_result"
    }
   ],
   "source": [
    "apple.iterrows()"
   ]
  },
  {
   "cell_type": "code",
   "execution_count": 43,
   "metadata": {},
   "outputs": [
    {
     "name": "stdout",
     "output_type": "stream",
     "text": [
      "2023-08-18 174.49000549316406 172.3000030517578\n",
      "2023-08-21 175.83999633789062 175.07000732421875\n",
      "2023-08-22 177.22999572753906 177.05999755859375\n",
      "2023-08-23 181.1199951171875 178.52000427246094\n",
      "2023-08-24 176.3800048828125 180.6699981689453\n",
      "2023-08-25 178.61000061035156 177.3800048828125\n",
      "2023-08-28 180.19000244140625 180.08999633789062\n",
      "2023-08-29 184.1199951171875 179.6999969482422\n",
      "2023-08-30 187.64999389648438 184.94000244140625\n",
      "2023-08-31 187.8699951171875 187.83999633789062\n",
      "2023-09-01 189.4600067138672 189.49000549316406\n",
      "2023-09-05 189.6999969482422 188.27999877929688\n",
      "2023-09-06 182.91000366210938 188.39999389648438\n",
      "2023-09-07 177.55999755859375 175.17999267578125\n",
      "2023-09-08 178.17999267578125 178.35000610351562\n",
      "2023-09-11 179.36000061035156 180.07000732421875\n",
      "2023-09-12 176.3000030517578 179.49000549316406\n",
      "2023-09-13 174.2100067138672 176.50999450683594\n",
      "2023-09-14 175.74000549316406 174.0\n",
      "2023-09-15 175.00999450683594 176.47999572753906\n",
      "2023-09-18 177.97000122070312 176.47999572753906\n",
      "2023-09-19 179.07000732421875 177.52000427246094\n",
      "2023-09-20 175.49000549316406 179.25999450683594\n",
      "2023-09-21 173.92999267578125 174.5500030517578\n",
      "2023-09-22 174.7899932861328 174.6699981689453\n",
      "2023-09-25 176.0800018310547 174.1999969482422\n",
      "2023-09-26 171.9600067138672 174.82000732421875\n",
      "2023-09-27 170.42999267578125 172.6199951171875\n",
      "2023-09-28 170.69000244140625 169.33999633789062\n",
      "2023-09-29 171.2100067138672 172.02000427246094\n",
      "2023-10-02 173.75 171.22000122070312\n",
      "2023-10-03 172.39999389648438 172.25999450683594\n",
      "2023-10-04 173.66000366210938 171.08999633789062\n",
      "2023-10-05 174.91000366210938 173.7899932861328\n",
      "2023-10-06 177.49000549316406 173.8000030517578\n",
      "2023-10-09 178.99000549316406 176.80999755859375\n",
      "2023-10-10 178.38999938964844 178.10000610351562\n",
      "2023-10-11 179.8000030517578 178.1999969482422\n",
      "2023-10-12 180.7100067138672 180.07000732421875\n",
      "2023-10-13 178.85000610351562 181.4199981689453\n",
      "2023-10-16 178.72000122070312 176.75\n",
      "2023-10-17 177.14999389648438 176.64999389648438\n",
      "2023-10-18 175.83999633789062 175.5800018310547\n",
      "2023-10-19 175.4600067138672 176.0399932861328\n",
      "2023-10-20 172.8800048828125 175.30999755859375\n",
      "2023-10-23 173.0 170.91000366210938\n",
      "2023-10-24 173.44000244140625 173.0500030517578\n",
      "2023-10-25 171.10000610351562 171.8800048828125\n",
      "2023-10-26 166.88999938964844 170.3699951171875\n",
      "2023-10-27 168.22000122070312 166.91000366210938\n"
     ]
    }
   ],
   "source": [
    "for index, row in apple.iterrows():\n",
    "    print(index.date(), row.Close, row.Open)"
   ]
  },
  {
   "cell_type": "code",
   "execution_count": 41,
   "metadata": {},
   "outputs": [
    {
     "data": {
      "text/plain": [
       "DatetimeIndex(['2023-08-18', '2023-08-21', '2023-08-22', '2023-08-23',\n",
       "               '2023-08-24', '2023-08-25', '2023-08-28', '2023-08-29',\n",
       "               '2023-08-30', '2023-08-31', '2023-09-01', '2023-09-05',\n",
       "               '2023-09-06', '2023-09-07', '2023-09-08', '2023-09-11',\n",
       "               '2023-09-12', '2023-09-13', '2023-09-14', '2023-09-15',\n",
       "               '2023-09-18', '2023-09-19', '2023-09-20', '2023-09-21',\n",
       "               '2023-09-22', '2023-09-25', '2023-09-26', '2023-09-27',\n",
       "               '2023-09-28', '2023-09-29', '2023-10-02', '2023-10-03',\n",
       "               '2023-10-04', '2023-10-05', '2023-10-06', '2023-10-09',\n",
       "               '2023-10-10', '2023-10-11', '2023-10-12', '2023-10-13',\n",
       "               '2023-10-16', '2023-10-17', '2023-10-18', '2023-10-19',\n",
       "               '2023-10-20', '2023-10-23', '2023-10-24', '2023-10-25',\n",
       "               '2023-10-26', '2023-10-27'],\n",
       "              dtype='datetime64[ns]', name='Date', freq=None)"
      ]
     },
     "execution_count": 41,
     "metadata": {},
     "output_type": "execute_result"
    }
   ],
   "source": [
    "apple.index"
   ]
  },
  {
   "cell_type": "code",
   "execution_count": 3,
   "metadata": {},
   "outputs": [
    {
     "ename": "ImproperlyConfigured",
     "evalue": "Requested setting INSTALLED_APPS, but settings are not configured. You must either define the environment variable DJANGO_SETTINGS_MODULE or call settings.configure() before accessing settings.",
     "output_type": "error",
     "traceback": [
      "\u001b[1;31m---------------------------------------------------------------------------\u001b[0m",
      "\u001b[1;31mImproperlyConfigured\u001b[0m                      Traceback (most recent call last)",
      "\u001b[1;32md:\\programowanie\\cs50\\market_portfolio\\user_portfolio\\test.ipynb Cell 10\u001b[0m line \u001b[0;36m2\n\u001b[0;32m      <a href='vscode-notebook-cell:/d%3A/programowanie/cs50/market_portfolio/user_portfolio/test.ipynb#W0sZmlsZQ%3D%3D?line=0'>1</a>\u001b[0m \u001b[39mimport\u001b[39;00m \u001b[39mpandas\u001b[39;00m \u001b[39mas\u001b[39;00m \u001b[39mpd\u001b[39;00m\n\u001b[1;32m----> <a href='vscode-notebook-cell:/d%3A/programowanie/cs50/market_portfolio/user_portfolio/test.ipynb#W0sZmlsZQ%3D%3D?line=1'>2</a>\u001b[0m \u001b[39mfrom\u001b[39;00m \u001b[39mmodels\u001b[39;00m \u001b[39mimport\u001b[39;00m StocksModel\n\u001b[0;32m      <a href='vscode-notebook-cell:/d%3A/programowanie/cs50/market_portfolio/user_portfolio/test.ipynb#W0sZmlsZQ%3D%3D?line=3'>4</a>\u001b[0m \u001b[39m# create a queryset of all stocks in the database\u001b[39;00m\n\u001b[0;32m      <a href='vscode-notebook-cell:/d%3A/programowanie/cs50/market_portfolio/user_portfolio/test.ipynb#W0sZmlsZQ%3D%3D?line=4'>5</a>\u001b[0m stocks_queryset \u001b[39m=\u001b[39m StocksModel\u001b[39m.\u001b[39mobjects\u001b[39m.\u001b[39mall()\n",
      "File \u001b[1;32md:\\programowanie\\cs50\\market_portfolio\\user_portfolio\\models.py:1\u001b[0m\n\u001b[1;32m----> 1\u001b[0m \u001b[39mfrom\u001b[39;00m \u001b[39mdjango\u001b[39;00m\u001b[39m.\u001b[39;00m\u001b[39mcontrib\u001b[39;00m\u001b[39m.\u001b[39;00m\u001b[39mauth\u001b[39;00m\u001b[39m.\u001b[39;00m\u001b[39mmodels\u001b[39;00m \u001b[39mimport\u001b[39;00m AbstractUser\n\u001b[0;32m      2\u001b[0m \u001b[39mfrom\u001b[39;00m \u001b[39mdjango\u001b[39;00m\u001b[39m.\u001b[39;00m\u001b[39mdb\u001b[39;00m \u001b[39mimport\u001b[39;00m models\n\u001b[0;32m      5\u001b[0m \u001b[39mclass\u001b[39;00m \u001b[39mUser\u001b[39;00m(AbstractUser):\n",
      "File \u001b[1;32mc:\\Users\\Rizos\\anaconda3\\envs\\requirements\\lib\\site-packages\\django\\contrib\\auth\\models.py:3\u001b[0m\n\u001b[0;32m      1\u001b[0m \u001b[39mfrom\u001b[39;00m \u001b[39mdjango\u001b[39;00m\u001b[39m.\u001b[39;00m\u001b[39mapps\u001b[39;00m \u001b[39mimport\u001b[39;00m apps\n\u001b[0;32m      2\u001b[0m \u001b[39mfrom\u001b[39;00m \u001b[39mdjango\u001b[39;00m\u001b[39m.\u001b[39;00m\u001b[39mcontrib\u001b[39;00m \u001b[39mimport\u001b[39;00m auth\n\u001b[1;32m----> 3\u001b[0m \u001b[39mfrom\u001b[39;00m \u001b[39mdjango\u001b[39;00m\u001b[39m.\u001b[39;00m\u001b[39mcontrib\u001b[39;00m\u001b[39m.\u001b[39;00m\u001b[39mauth\u001b[39;00m\u001b[39m.\u001b[39;00m\u001b[39mbase_user\u001b[39;00m \u001b[39mimport\u001b[39;00m AbstractBaseUser, BaseUserManager\n\u001b[0;32m      4\u001b[0m \u001b[39mfrom\u001b[39;00m \u001b[39mdjango\u001b[39;00m\u001b[39m.\u001b[39;00m\u001b[39mcontrib\u001b[39;00m\u001b[39m.\u001b[39;00m\u001b[39mauth\u001b[39;00m\u001b[39m.\u001b[39;00m\u001b[39mhashers\u001b[39;00m \u001b[39mimport\u001b[39;00m make_password\n\u001b[0;32m      5\u001b[0m \u001b[39mfrom\u001b[39;00m \u001b[39mdjango\u001b[39;00m\u001b[39m.\u001b[39;00m\u001b[39mcontrib\u001b[39;00m\u001b[39m.\u001b[39;00m\u001b[39mcontenttypes\u001b[39;00m\u001b[39m.\u001b[39;00m\u001b[39mmodels\u001b[39;00m \u001b[39mimport\u001b[39;00m ContentType\n",
      "File \u001b[1;32mc:\\Users\\Rizos\\anaconda3\\envs\\requirements\\lib\\site-packages\\django\\contrib\\auth\\base_user.py:57\u001b[0m\n\u001b[0;32m     53\u001b[0m     \u001b[39mdef\u001b[39;00m \u001b[39mget_by_natural_key\u001b[39m(\u001b[39mself\u001b[39m, username):\n\u001b[0;32m     54\u001b[0m         \u001b[39mreturn\u001b[39;00m \u001b[39mself\u001b[39m\u001b[39m.\u001b[39mget(\u001b[39m*\u001b[39m\u001b[39m*\u001b[39m{\u001b[39mself\u001b[39m\u001b[39m.\u001b[39mmodel\u001b[39m.\u001b[39mUSERNAME_FIELD: username})\n\u001b[1;32m---> 57\u001b[0m \u001b[39mclass\u001b[39;00m \u001b[39mAbstractBaseUser\u001b[39;00m(models\u001b[39m.\u001b[39mModel):\n\u001b[0;32m     58\u001b[0m     password \u001b[39m=\u001b[39m models\u001b[39m.\u001b[39mCharField(_(\u001b[39m\"\u001b[39m\u001b[39mpassword\u001b[39m\u001b[39m\"\u001b[39m), max_length\u001b[39m=\u001b[39m\u001b[39m128\u001b[39m)\n\u001b[0;32m     59\u001b[0m     last_login \u001b[39m=\u001b[39m models\u001b[39m.\u001b[39mDateTimeField(_(\u001b[39m\"\u001b[39m\u001b[39mlast login\u001b[39m\u001b[39m\"\u001b[39m), blank\u001b[39m=\u001b[39m\u001b[39mTrue\u001b[39;00m, null\u001b[39m=\u001b[39m\u001b[39mTrue\u001b[39;00m)\n",
      "File \u001b[1;32mc:\\Users\\Rizos\\anaconda3\\envs\\requirements\\lib\\site-packages\\django\\db\\models\\base.py:129\u001b[0m, in \u001b[0;36mModelBase.__new__\u001b[1;34m(cls, name, bases, attrs, **kwargs)\u001b[0m\n\u001b[0;32m    126\u001b[0m app_label \u001b[39m=\u001b[39m \u001b[39mNone\u001b[39;00m\n\u001b[0;32m    128\u001b[0m \u001b[39m# Look for an application configuration to attach the model to.\u001b[39;00m\n\u001b[1;32m--> 129\u001b[0m app_config \u001b[39m=\u001b[39m apps\u001b[39m.\u001b[39;49mget_containing_app_config(module)\n\u001b[0;32m    131\u001b[0m \u001b[39mif\u001b[39;00m \u001b[39mgetattr\u001b[39m(meta, \u001b[39m\"\u001b[39m\u001b[39mapp_label\u001b[39m\u001b[39m\"\u001b[39m, \u001b[39mNone\u001b[39;00m) \u001b[39mis\u001b[39;00m \u001b[39mNone\u001b[39;00m:\n\u001b[0;32m    132\u001b[0m     \u001b[39mif\u001b[39;00m app_config \u001b[39mis\u001b[39;00m \u001b[39mNone\u001b[39;00m:\n",
      "File \u001b[1;32mc:\\Users\\Rizos\\anaconda3\\envs\\requirements\\lib\\site-packages\\django\\apps\\registry.py:260\u001b[0m, in \u001b[0;36mApps.get_containing_app_config\u001b[1;34m(self, object_name)\u001b[0m\n\u001b[0;32m    251\u001b[0m \u001b[39mdef\u001b[39;00m \u001b[39mget_containing_app_config\u001b[39m(\u001b[39mself\u001b[39m, object_name):\n\u001b[0;32m    252\u001b[0m     \u001b[39m\"\"\"\u001b[39;00m\n\u001b[0;32m    253\u001b[0m \u001b[39m    Look for an app config containing a given object.\u001b[39;00m\n\u001b[0;32m    254\u001b[0m \n\u001b[1;32m   (...)\u001b[0m\n\u001b[0;32m    258\u001b[0m \u001b[39m    Return None if the object isn't in any registered app config.\u001b[39;00m\n\u001b[0;32m    259\u001b[0m \u001b[39m    \"\"\"\u001b[39;00m\n\u001b[1;32m--> 260\u001b[0m     \u001b[39mself\u001b[39;49m\u001b[39m.\u001b[39;49mcheck_apps_ready()\n\u001b[0;32m    261\u001b[0m     candidates \u001b[39m=\u001b[39m []\n\u001b[0;32m    262\u001b[0m     \u001b[39mfor\u001b[39;00m app_config \u001b[39min\u001b[39;00m \u001b[39mself\u001b[39m\u001b[39m.\u001b[39mapp_configs\u001b[39m.\u001b[39mvalues():\n",
      "File \u001b[1;32mc:\\Users\\Rizos\\anaconda3\\envs\\requirements\\lib\\site-packages\\django\\apps\\registry.py:137\u001b[0m, in \u001b[0;36mApps.check_apps_ready\u001b[1;34m(self)\u001b[0m\n\u001b[0;32m    132\u001b[0m \u001b[39mfrom\u001b[39;00m \u001b[39mdjango\u001b[39;00m\u001b[39m.\u001b[39;00m\u001b[39mconf\u001b[39;00m \u001b[39mimport\u001b[39;00m settings\n\u001b[0;32m    134\u001b[0m \u001b[39m# If \"not ready\" is due to unconfigured settings, accessing\u001b[39;00m\n\u001b[0;32m    135\u001b[0m \u001b[39m# INSTALLED_APPS raises a more helpful ImproperlyConfigured\u001b[39;00m\n\u001b[0;32m    136\u001b[0m \u001b[39m# exception.\u001b[39;00m\n\u001b[1;32m--> 137\u001b[0m settings\u001b[39m.\u001b[39;49mINSTALLED_APPS\n\u001b[0;32m    138\u001b[0m \u001b[39mraise\u001b[39;00m AppRegistryNotReady(\u001b[39m\"\u001b[39m\u001b[39mApps aren\u001b[39m\u001b[39m'\u001b[39m\u001b[39mt loaded yet.\u001b[39m\u001b[39m\"\u001b[39m)\n",
      "File \u001b[1;32mc:\\Users\\Rizos\\anaconda3\\envs\\requirements\\lib\\site-packages\\django\\conf\\__init__.py:102\u001b[0m, in \u001b[0;36mLazySettings.__getattr__\u001b[1;34m(self, name)\u001b[0m\n\u001b[0;32m    100\u001b[0m \u001b[39m\"\"\"Return the value of a setting and cache it in self.__dict__.\"\"\"\u001b[39;00m\n\u001b[0;32m    101\u001b[0m \u001b[39mif\u001b[39;00m (_wrapped \u001b[39m:=\u001b[39m \u001b[39mself\u001b[39m\u001b[39m.\u001b[39m_wrapped) \u001b[39mis\u001b[39;00m empty:\n\u001b[1;32m--> 102\u001b[0m     \u001b[39mself\u001b[39;49m\u001b[39m.\u001b[39;49m_setup(name)\n\u001b[0;32m    103\u001b[0m     _wrapped \u001b[39m=\u001b[39m \u001b[39mself\u001b[39m\u001b[39m.\u001b[39m_wrapped\n\u001b[0;32m    104\u001b[0m val \u001b[39m=\u001b[39m \u001b[39mgetattr\u001b[39m(_wrapped, name)\n",
      "File \u001b[1;32mc:\\Users\\Rizos\\anaconda3\\envs\\requirements\\lib\\site-packages\\django\\conf\\__init__.py:82\u001b[0m, in \u001b[0;36mLazySettings._setup\u001b[1;34m(self, name)\u001b[0m\n\u001b[0;32m     80\u001b[0m \u001b[39mif\u001b[39;00m \u001b[39mnot\u001b[39;00m settings_module:\n\u001b[0;32m     81\u001b[0m     desc \u001b[39m=\u001b[39m (\u001b[39m\"\u001b[39m\u001b[39msetting \u001b[39m\u001b[39m%s\u001b[39;00m\u001b[39m\"\u001b[39m \u001b[39m%\u001b[39m name) \u001b[39mif\u001b[39;00m name \u001b[39melse\u001b[39;00m \u001b[39m\"\u001b[39m\u001b[39msettings\u001b[39m\u001b[39m\"\u001b[39m\n\u001b[1;32m---> 82\u001b[0m     \u001b[39mraise\u001b[39;00m ImproperlyConfigured(\n\u001b[0;32m     83\u001b[0m         \u001b[39m\"\u001b[39m\u001b[39mRequested \u001b[39m\u001b[39m%s\u001b[39;00m\u001b[39m, but settings are not configured. \u001b[39m\u001b[39m\"\u001b[39m\n\u001b[0;32m     84\u001b[0m         \u001b[39m\"\u001b[39m\u001b[39mYou must either define the environment variable \u001b[39m\u001b[39m%s\u001b[39;00m\u001b[39m \u001b[39m\u001b[39m\"\u001b[39m\n\u001b[0;32m     85\u001b[0m         \u001b[39m\"\u001b[39m\u001b[39mor call settings.configure() before accessing settings.\u001b[39m\u001b[39m\"\u001b[39m\n\u001b[0;32m     86\u001b[0m         \u001b[39m%\u001b[39m (desc, ENVIRONMENT_VARIABLE)\n\u001b[0;32m     87\u001b[0m     )\n\u001b[0;32m     89\u001b[0m \u001b[39mself\u001b[39m\u001b[39m.\u001b[39m_wrapped \u001b[39m=\u001b[39m Settings(settings_module)\n",
      "\u001b[1;31mImproperlyConfigured\u001b[0m: Requested setting INSTALLED_APPS, but settings are not configured. You must either define the environment variable DJANGO_SETTINGS_MODULE or call settings.configure() before accessing settings."
     ]
    }
   ],
   "source": [
    "import pandas as pd\n",
    "from models import StocksModel\n",
    "\n",
    "# create a queryset of all stocks in the database\n",
    "stocks_queryset = StocksModel.objects.all()\n",
    "\n",
    "# create an empty list to store stock prices data\n",
    "stock_prices = []\n",
    "\n",
    "# iterate over each stock in the queryset and append its prices data to the list\n",
    "for stock in stocks_queryset:\n",
    "    stock_prices.append({\n",
    "        'symbol': stock.symbol,\n",
    "        'date': stock.date,\n",
    "        'open': stock.open,\n",
    "        'high': stock.high,\n",
    "        'low': stock.low,\n",
    "        'close': stock.close,\n",
    "    })\n",
    "\n",
    "# create a Pandas dataframe from the list of stock prices data\n",
    "df = pd.DataFrame(stock_prices)\n",
    "\n",
    "# set the date column as the index of the dataframe\n",
    "df.set_index('date', inplace=True)\n",
    "\n",
    "# sort the dataframe by date\n",
    "df.sort_index(inplace=True)\n",
    "\n",
    "# print the dataframe\n",
    "print(df)"
   ]
  },
  {
   "cell_type": "code",
   "execution_count": 9,
   "metadata": {},
   "outputs": [
    {
     "data": {
      "text/plain": [
       "['ADBE',\n",
       " 'ADP',\n",
       " 'ABNB',\n",
       " 'ALGN',\n",
       " 'GOOGL',\n",
       " 'GOOG',\n",
       " 'AMZN',\n",
       " 'AMD',\n",
       " 'AEP',\n",
       " 'AMGN',\n",
       " 'ADI',\n",
       " 'ANSS',\n",
       " 'AAPL',\n",
       " 'AMAT',\n",
       " 'ASML',\n",
       " 'AZN',\n",
       " 'TEAM',\n",
       " 'ADSK',\n",
       " 'BKR',\n",
       " 'BIIB',\n",
       " 'BKNG',\n",
       " 'AVGO',\n",
       " 'CDNS',\n",
       " 'CHTR',\n",
       " 'CTAS',\n",
       " 'CSCO',\n",
       " 'CTSH',\n",
       " 'CMCSA',\n",
       " 'CEG',\n",
       " 'CPRT',\n",
       " 'CSGP',\n",
       " 'COST',\n",
       " 'CRWD',\n",
       " 'CSX',\n",
       " 'DDOG',\n",
       " 'DXCM',\n",
       " 'FANG',\n",
       " 'DLTR',\n",
       " 'EBAY',\n",
       " 'EA',\n",
       " 'ENPH',\n",
       " 'EXC',\n",
       " 'FAST',\n",
       " 'FTNT',\n",
       " 'GEHC',\n",
       " 'GILD',\n",
       " 'GFS',\n",
       " 'HON',\n",
       " 'IDXX',\n",
       " 'ILMN',\n",
       " 'INTC',\n",
       " 'INTU',\n",
       " 'ISRG',\n",
       " 'JD',\n",
       " 'KDP',\n",
       " 'KLAC',\n",
       " 'KHC',\n",
       " 'LRCX',\n",
       " 'LCID',\n",
       " 'LULU',\n",
       " 'MAR',\n",
       " 'MRVL',\n",
       " 'MELI',\n",
       " 'META',\n",
       " 'MCHP',\n",
       " 'MU',\n",
       " 'MSFT',\n",
       " 'MRNA',\n",
       " 'MDLZ',\n",
       " 'MNST',\n",
       " 'NFLX',\n",
       " 'NVDA',\n",
       " 'NXPI',\n",
       " 'ORLY',\n",
       " 'ODFL',\n",
       " 'ON',\n",
       " 'PCAR',\n",
       " 'PANW',\n",
       " 'PAYX',\n",
       " 'PYPL',\n",
       " 'PDD',\n",
       " 'PEP',\n",
       " 'QCOM',\n",
       " 'REGN',\n",
       " 'ROST',\n",
       " 'SGEN',\n",
       " 'SIRI',\n",
       " 'SBUX',\n",
       " 'SNPS',\n",
       " 'TMUS',\n",
       " 'TSLA',\n",
       " 'TXN',\n",
       " 'TTD',\n",
       " 'VRSK',\n",
       " 'VRTX',\n",
       " 'WBA',\n",
       " 'WBD',\n",
       " 'WDAY',\n",
       " 'XEL',\n",
       " 'ZM',\n",
       " 'ZS']"
      ]
     },
     "execution_count": 9,
     "metadata": {},
     "output_type": "execute_result"
    }
   ],
   "source": [
    "import pandas as pd\n",
    "\n",
    "\n",
    "# This method fetches NASDAQ tickers from Wikipedia\n",
    "url = 'https://en.wikipedia.org/wiki/Nasdaq-100'\n",
    "tables = pd.read_html(url)\n",
    "tables[4]['Ticker'].to_list()\n",
    "\n"
   ]
  },
  {
   "cell_type": "code",
   "execution_count": 3,
   "metadata": {},
   "outputs": [
    {
     "name": "stdout",
     "output_type": "stream",
     "text": [
      "[*********************100%***********************]  1 of 1 completed\n"
     ]
    }
   ],
   "source": [
    "import yfinance as yf\n",
    "\n",
    "data = yf.download('MMM', start=2015)"
   ]
  },
  {
   "cell_type": "code",
   "execution_count": 7,
   "metadata": {},
   "outputs": [],
   "source": [
    "\n",
    "\n",
    "import pandas as pd\n",
    "\n",
    "\n",
    "# This method fetches NASDAQ tickers from Wikipedia\n",
    "url = 'https://www.nasdaq.com/market-activity/quotes/nasdaq-ndx-index'\n",
    "tables = pd.read_html(url)\n",
    "tables[0]"
   ]
  },
  {
   "cell_type": "code",
   "execution_count": null,
   "metadata": {},
   "outputs": [],
   "source": []
  }
 ],
 "metadata": {
  "kernelspec": {
   "display_name": "requirements",
   "language": "python",
   "name": "python3"
  },
  "language_info": {
   "codemirror_mode": {
    "name": "ipython",
    "version": 3
   },
   "file_extension": ".py",
   "mimetype": "text/x-python",
   "name": "python",
   "nbconvert_exporter": "python",
   "pygments_lexer": "ipython3",
   "version": "3.10.4"
  }
 },
 "nbformat": 4,
 "nbformat_minor": 2
}
